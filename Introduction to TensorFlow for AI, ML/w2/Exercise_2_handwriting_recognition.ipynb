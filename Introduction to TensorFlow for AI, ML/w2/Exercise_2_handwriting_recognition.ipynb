{
  "nbformat": 4,
  "nbformat_minor": 0,
  "metadata": {
    "colab": {
      "name": "Exercise 2 handwriting recognition.ipynb",
      "provenance": [],
      "collapsed_sections": []
    },
    "kernelspec": {
      "name": "python3",
      "display_name": "Python 3"
    },
    "accelerator": "TPU"
  },
  "cells": [
    {
      "cell_type": "code",
      "metadata": {
        "id": "9bedc3QpahhB",
        "colab_type": "code",
        "colab": {
          "base_uri": "https://localhost:8080/",
          "height": 34
        },
        "outputId": "ee1f1afb-be22-4b29-a67d-e8272eb647b6"
      },
      "source": [
        "import tensorflow as tf\n",
        "from keras.datasets import mnist"
      ],
      "execution_count": 1,
      "outputs": [
        {
          "output_type": "stream",
          "text": [
            "Using TensorFlow backend.\n"
          ],
          "name": "stderr"
        }
      ]
    },
    {
      "cell_type": "code",
      "metadata": {
        "colab_type": "code",
        "id": "FcHq3v58fEh5",
        "colab": {}
      },
      "source": [
        "# GRADED FUNCTION: train_mnist\n",
        "class myCallback(tf.keras.callbacks.Callback):\n",
        "    def on_epoch_end(self, epoch, logs={}):\n",
        "        if(logs.get('acc') > 0.99):\n",
        "            print(\"Reached 99% accuracy so cancelling training!\",)\n",
        "            self.model.stop_training = True\n",
        "\n",
        "def train_mnist():\n",
        "    mnist = tf.keras.datasets.mnist\n",
        "    (x_train, y_train),(x_test, y_test) = mnist.load_data()\n",
        "    x_train,x_test = x_train/255.0,y_train/255.0\n",
        "    callbacks = myCallback()\n",
        "    model = tf.keras.models.Sequential([\n",
        "    tf.keras.layers.Flatten(),\n",
        "    tf.keras.layers.Dense(512, activation = tf.nn.relu),\n",
        "    tf.keras.layers.Dense(10, activation = tf.nn.softmax)])\n",
        "    model.compile(optimizer='adam',\n",
        "    loss='sparse_categorical_crossentropy',\n",
        "    metrics=['accuracy'])\n",
        "    # model fitting\n",
        "    history = model.fit(x_train,y_train, epochs = 10, callbacks = [callbacks])\n",
        "    return history.epoch, history.history['acc'][-1]"
      ],
      "execution_count": 0,
      "outputs": []
    },
    {
      "cell_type": "code",
      "metadata": {
        "id": "A3btHEUWapvO",
        "colab_type": "code",
        "colab": {
          "base_uri": "https://localhost:8080/",
          "height": 350
        },
        "outputId": "3cf1715d-8106-4e84-9639-23a20c6faf90"
      },
      "source": [
        "train_mnist()"
      ],
      "execution_count": 3,
      "outputs": [
        {
          "output_type": "stream",
          "text": [
            "Downloading data from https://storage.googleapis.com/tensorflow/tf-keras-datasets/mnist.npz\n",
            "11493376/11490434 [==============================] - 0s 0us/step\n",
            "WARNING:tensorflow:From /usr/local/lib/python3.6/dist-packages/tensorflow_core/python/ops/resource_variable_ops.py:1630: calling BaseResourceVariable.__init__ (from tensorflow.python.ops.resource_variable_ops) with constraint is deprecated and will be removed in a future version.\n",
            "Instructions for updating:\n",
            "If using Keras pass *_constraint arguments to layers.\n",
            "Train on 60000 samples\n",
            "Epoch 1/10\n",
            "60000/60000 [==============================] - 7s 116us/sample - loss: 0.1968 - acc: 0.9418\n",
            "Epoch 2/10\n",
            "60000/60000 [==============================] - 6s 104us/sample - loss: 0.0799 - acc: 0.9753\n",
            "Epoch 3/10\n",
            "60000/60000 [==============================] - 6s 106us/sample - loss: 0.0513 - acc: 0.9844\n",
            "Epoch 4/10\n",
            "60000/60000 [==============================] - 6s 104us/sample - loss: 0.0363 - acc: 0.9883\n",
            "Epoch 5/10\n",
            "59552/60000 [============================>.] - ETA: 0s - loss: 0.0273 - acc: 0.9906Reached 99% accuracy so cancelling training!\n",
            "60000/60000 [==============================] - 6s 107us/sample - loss: 0.0275 - acc: 0.9906\n"
          ],
          "name": "stdout"
        },
        {
          "output_type": "execute_result",
          "data": {
            "text/plain": [
              "([0, 1, 2, 3, 4], 0.9906)"
            ]
          },
          "metadata": {
            "tags": []
          },
          "execution_count": 3
        }
      ]
    },
    {
      "cell_type": "code",
      "metadata": {
        "id": "INGuMesOas48",
        "colab_type": "code",
        "colab": {}
      },
      "source": [
        ""
      ],
      "execution_count": 0,
      "outputs": []
    }
  ]
}